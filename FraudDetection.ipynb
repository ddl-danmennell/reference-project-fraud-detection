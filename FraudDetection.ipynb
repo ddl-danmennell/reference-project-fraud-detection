{
 "cells": [
  {
   "cell_type": "markdown",
   "metadata": {},
   "source": [
    "# Credit Card Fraud Detection\n",
    "\n",
    "Credit card fraud represents a significant problem for financial institutions, and reliable fraud detection is generally challenging. Here we demonstrate how to train a machine learning model on a real-world credit card fraud dataset, and how to employ techniques like oversampling and threshold moving to address class imbalance.\n",
    "\n",
    "Historically, fraud detection has been performed by analysts who are responsible for identifying and tracing suspicious patterns in the data. The rapid increase of online transactions, often associated with online shopping, mobile payments etc., has made this approach unfeasible. A modern transaction dataset has hundreds of dimensions, millions of records, and is constantly updated in an online fashion. Auxiliary techniques like relying on card holders to report fraudulent transactions have unfortunately proven to be ineffective [[1]](#ref1). \n",
    "\n",
    "Automated credit card fraud detection is generally implemented using one of the following methods:\n",
    "\n",
    "* **Rule-based detection** - based on hard-coded rules, this approach requires a substantial amount of manual work to define the majority of the possible fraud conditions and to put rules in place that trigger alarms or block the suspicious transaction. An advantage of this approach is that its decisions are inherently explainable - it is straightforward to identify the rule, which flagged a specific transaction as fraudulent. The drawbacks are that rule-based detection is computationally intensive and is usually implemented as batch (or offline) scoring. Keeping the rules updated and constantly scanning for false negatives that slip through the cracks is also challenging from a maintenance perspective.\n",
    "\n",
    "* **Machine Learning-based detection** - using statistical learning is another approach that is gaining popularity, mostly because it is less laborious. It can be implemented as either unsupervised (e.g. anomaly detection) or supervised model (classification), and requires less maintenance as the model can be automatically retrained to keep its associations up to date. It is also suitable for online applications, as the scoring function is usually very lightweight. A drawback of the ML approach is that there for certain algorithms (e.g. deep learning) there is no guaranteed explainability.\n",
    "\n",
    "In this notebook we will show an implementation of an ML-based anomaly detection based on XGBoost. We will go through a typical ML pipeline, where we do data ingestion, exploratory data analysis, feature engineering, model training and evaluation. \n",
    "\n",
    "\n",
    "## Table of contents\n",
    "1. [Data Ingestion](#data)\n",
    "2. [Exploratory Data Analysis](#eda)\n",
    "3. [Feature Engineering](#fe)\n",
    "    1. [Oversampling](#oversampling)\n",
    "4. [Model training](#model-training)\n",
    "5. [Model evaluation](#model-evaluation)\n",
    "6. [Persisting the model](#persisting)\n",
    "7. [Summary](#summary)\n",
    "8. [References](#ref)"
   ]
  },
  {
   "cell_type": "markdown",
   "metadata": {},
   "source": [
    "## Data Ingestion <a name=\"data\"></a>\n"
   ]
  },
  {
   "cell_type": "code",
   "execution_count": 1,
   "metadata": {},
   "outputs": [],
   "source": [
    "import pandas as pd\n",
    "import matplotlib.pyplot as plt\n",
    "import numpy as np\n",
    "import random\n",
    "import seaborn as sns\n",
    "\n",
    "from sklearn.model_selection import train_test_split\n",
    "from sklearn.model_selection import StratifiedKFold\n",
    "from sklearn.model_selection import GridSearchCV\n",
    "\n",
    "from imblearn.over_sampling import SMOTE\n",
    "\n",
    "from xgboost import XGBClassifier\n",
    "from xgboost import Booster\n",
    "from xgboost import DMatrix\n",
    "\n",
    "from sklearn import metrics\n",
    "\n",
    "from datetime import datetime\n",
    "\n",
    "%matplotlib inline"
   ]
  },
  {
   "cell_type": "markdown",
   "metadata": {},
   "source": [
    "We start by reading and inspecting the complete dataset. This dataset contains anonymized credit card transaction data and is freely available from [Kaggle](https://www.kaggle.com/mlg-ulb/creditcardfraud). The data has been collected as part of a research collaboration between Worldline and the Machine Learning Group of [Université Libre de Bruxelles](http://mlg.ulb.ac.be).\n",
    "The dataset contains transactions made by European credit card holders in September 2013, and has been anonymized - Features V1, V2, ..., V28 are results from applying PCA on the raw data. The only intact features are Time and Amount. The class label is titled Class where 0 denotes a genuine transaction and 1 signifies fraud."
   ]
  },
  {
   "cell_type": "code",
   "execution_count": 2,
   "metadata": {},
   "outputs": [
    {
     "data": {
      "text/html": [
       "<div>\n",
       "<style scoped>\n",
       "    .dataframe tbody tr th:only-of-type {\n",
       "        vertical-align: middle;\n",
       "    }\n",
       "\n",
       "    .dataframe tbody tr th {\n",
       "        vertical-align: top;\n",
       "    }\n",
       "\n",
       "    .dataframe thead th {\n",
       "        text-align: right;\n",
       "    }\n",
       "</style>\n",
       "<table border=\"1\" class=\"dataframe\">\n",
       "  <thead>\n",
       "    <tr style=\"text-align: right;\">\n",
       "      <th></th>\n",
       "      <th>Time</th>\n",
       "      <th>V1</th>\n",
       "      <th>V2</th>\n",
       "      <th>V3</th>\n",
       "      <th>V4</th>\n",
       "      <th>V5</th>\n",
       "      <th>V6</th>\n",
       "      <th>V7</th>\n",
       "      <th>V8</th>\n",
       "      <th>V9</th>\n",
       "      <th>...</th>\n",
       "      <th>V21</th>\n",
       "      <th>V22</th>\n",
       "      <th>V23</th>\n",
       "      <th>V24</th>\n",
       "      <th>V25</th>\n",
       "      <th>V26</th>\n",
       "      <th>V27</th>\n",
       "      <th>V28</th>\n",
       "      <th>Amount</th>\n",
       "      <th>Class</th>\n",
       "    </tr>\n",
       "  </thead>\n",
       "  <tbody>\n",
       "    <tr>\n",
       "      <th>0</th>\n",
       "      <td>0.0</td>\n",
       "      <td>-1.359807</td>\n",
       "      <td>-0.072781</td>\n",
       "      <td>2.536347</td>\n",
       "      <td>1.378155</td>\n",
       "      <td>-0.338321</td>\n",
       "      <td>0.462388</td>\n",
       "      <td>0.239599</td>\n",
       "      <td>0.098698</td>\n",
       "      <td>0.363787</td>\n",
       "      <td>...</td>\n",
       "      <td>-0.018307</td>\n",
       "      <td>0.277838</td>\n",
       "      <td>-0.110474</td>\n",
       "      <td>0.066928</td>\n",
       "      <td>0.128539</td>\n",
       "      <td>-0.189115</td>\n",
       "      <td>0.133558</td>\n",
       "      <td>-0.021053</td>\n",
       "      <td>149.62</td>\n",
       "      <td>0</td>\n",
       "    </tr>\n",
       "    <tr>\n",
       "      <th>1</th>\n",
       "      <td>0.0</td>\n",
       "      <td>1.191857</td>\n",
       "      <td>0.266151</td>\n",
       "      <td>0.166480</td>\n",
       "      <td>0.448154</td>\n",
       "      <td>0.060018</td>\n",
       "      <td>-0.082361</td>\n",
       "      <td>-0.078803</td>\n",
       "      <td>0.085102</td>\n",
       "      <td>-0.255425</td>\n",
       "      <td>...</td>\n",
       "      <td>-0.225775</td>\n",
       "      <td>-0.638672</td>\n",
       "      <td>0.101288</td>\n",
       "      <td>-0.339846</td>\n",
       "      <td>0.167170</td>\n",
       "      <td>0.125895</td>\n",
       "      <td>-0.008983</td>\n",
       "      <td>0.014724</td>\n",
       "      <td>2.69</td>\n",
       "      <td>0</td>\n",
       "    </tr>\n",
       "    <tr>\n",
       "      <th>2</th>\n",
       "      <td>1.0</td>\n",
       "      <td>-1.358354</td>\n",
       "      <td>-1.340163</td>\n",
       "      <td>1.773209</td>\n",
       "      <td>0.379780</td>\n",
       "      <td>-0.503198</td>\n",
       "      <td>1.800499</td>\n",
       "      <td>0.791461</td>\n",
       "      <td>0.247676</td>\n",
       "      <td>-1.514654</td>\n",
       "      <td>...</td>\n",
       "      <td>0.247998</td>\n",
       "      <td>0.771679</td>\n",
       "      <td>0.909412</td>\n",
       "      <td>-0.689281</td>\n",
       "      <td>-0.327642</td>\n",
       "      <td>-0.139097</td>\n",
       "      <td>-0.055353</td>\n",
       "      <td>-0.059752</td>\n",
       "      <td>378.66</td>\n",
       "      <td>0</td>\n",
       "    </tr>\n",
       "    <tr>\n",
       "      <th>3</th>\n",
       "      <td>1.0</td>\n",
       "      <td>-0.966272</td>\n",
       "      <td>-0.185226</td>\n",
       "      <td>1.792993</td>\n",
       "      <td>-0.863291</td>\n",
       "      <td>-0.010309</td>\n",
       "      <td>1.247203</td>\n",
       "      <td>0.237609</td>\n",
       "      <td>0.377436</td>\n",
       "      <td>-1.387024</td>\n",
       "      <td>...</td>\n",
       "      <td>-0.108300</td>\n",
       "      <td>0.005274</td>\n",
       "      <td>-0.190321</td>\n",
       "      <td>-1.175575</td>\n",
       "      <td>0.647376</td>\n",
       "      <td>-0.221929</td>\n",
       "      <td>0.062723</td>\n",
       "      <td>0.061458</td>\n",
       "      <td>123.50</td>\n",
       "      <td>0</td>\n",
       "    </tr>\n",
       "    <tr>\n",
       "      <th>4</th>\n",
       "      <td>2.0</td>\n",
       "      <td>-1.158233</td>\n",
       "      <td>0.877737</td>\n",
       "      <td>1.548718</td>\n",
       "      <td>0.403034</td>\n",
       "      <td>-0.407193</td>\n",
       "      <td>0.095921</td>\n",
       "      <td>0.592941</td>\n",
       "      <td>-0.270533</td>\n",
       "      <td>0.817739</td>\n",
       "      <td>...</td>\n",
       "      <td>-0.009431</td>\n",
       "      <td>0.798278</td>\n",
       "      <td>-0.137458</td>\n",
       "      <td>0.141267</td>\n",
       "      <td>-0.206010</td>\n",
       "      <td>0.502292</td>\n",
       "      <td>0.219422</td>\n",
       "      <td>0.215153</td>\n",
       "      <td>69.99</td>\n",
       "      <td>0</td>\n",
       "    </tr>\n",
       "  </tbody>\n",
       "</table>\n",
       "<p>5 rows × 31 columns</p>\n",
       "</div>"
      ],
      "text/plain": [
       "   Time        V1        V2        V3        V4        V5        V6        V7  \\\n",
       "0   0.0 -1.359807 -0.072781  2.536347  1.378155 -0.338321  0.462388  0.239599   \n",
       "1   0.0  1.191857  0.266151  0.166480  0.448154  0.060018 -0.082361 -0.078803   \n",
       "2   1.0 -1.358354 -1.340163  1.773209  0.379780 -0.503198  1.800499  0.791461   \n",
       "3   1.0 -0.966272 -0.185226  1.792993 -0.863291 -0.010309  1.247203  0.237609   \n",
       "4   2.0 -1.158233  0.877737  1.548718  0.403034 -0.407193  0.095921  0.592941   \n",
       "\n",
       "         V8        V9  ...       V21       V22       V23       V24       V25  \\\n",
       "0  0.098698  0.363787  ... -0.018307  0.277838 -0.110474  0.066928  0.128539   \n",
       "1  0.085102 -0.255425  ... -0.225775 -0.638672  0.101288 -0.339846  0.167170   \n",
       "2  0.247676 -1.514654  ...  0.247998  0.771679  0.909412 -0.689281 -0.327642   \n",
       "3  0.377436 -1.387024  ... -0.108300  0.005274 -0.190321 -1.175575  0.647376   \n",
       "4 -0.270533  0.817739  ... -0.009431  0.798278 -0.137458  0.141267 -0.206010   \n",
       "\n",
       "        V26       V27       V28  Amount  Class  \n",
       "0 -0.189115  0.133558 -0.021053  149.62      0  \n",
       "1  0.125895 -0.008983  0.014724    2.69      0  \n",
       "2 -0.139097 -0.055353 -0.059752  378.66      0  \n",
       "3 -0.221929  0.062723  0.061458  123.50      0  \n",
       "4  0.502292  0.219422  0.215153   69.99      0  \n",
       "\n",
       "[5 rows x 31 columns]"
      ]
     },
     "execution_count": 2,
     "metadata": {},
     "output_type": "execute_result"
    }
   ],
   "source": [
    "dataDF = pd.read_csv(\"dataset/creditcard.csv.zip\")\n",
    "dataDF.head()"
   ]
  },
  {
   "cell_type": "code",
   "execution_count": 3,
   "metadata": {},
   "outputs": [
    {
     "data": {
      "text/plain": [
       "(284807, 31)"
      ]
     },
     "execution_count": 3,
     "metadata": {},
     "output_type": "execute_result"
    }
   ],
   "source": [
    "dataDF.shape"
   ]
  },
  {
   "cell_type": "markdown",
   "metadata": {},
   "source": [
    "## Exploratory Data Analysis <a name=\"eda\"></a>"
   ]
  },
  {
   "cell_type": "code",
   "execution_count": 4,
   "metadata": {},
   "outputs": [
    {
     "name": "stdout",
     "output_type": "stream",
     "text": [
      "The dataset contains 284807 samples in total.\n"
     ]
    }
   ],
   "source": [
    "print(\"The dataset contains %d samples in total.\" % len(dataDF))"
   ]
  },
  {
   "cell_type": "markdown",
   "metadata": {},
   "source": [
    "Next, let's check for missing values."
   ]
  },
  {
   "cell_type": "code",
   "execution_count": 5,
   "metadata": {},
   "outputs": [
    {
     "data": {
      "text/plain": [
       "False"
      ]
     },
     "execution_count": 5,
     "metadata": {},
     "output_type": "execute_result"
    }
   ],
   "source": [
    "dataDF.isnull().any().any()"
   ]
  },
  {
   "cell_type": "markdown",
   "metadata": {},
   "source": [
    "It appears that there are no missing values, however, as card transaction datasets usually contain mostly normal transactions and just a small fraction of fraudulent ones, our expectation is that the dataset will be highly unbalanced. We can confirm this by checking the distribution of the target classes."
   ]
  },
  {
   "cell_type": "code",
   "execution_count": 6,
   "metadata": {},
   "outputs": [
    {
     "data": {
      "image/png": "[encoded data removed]",
      "text/plain": [
       "<Figure size 432x288 with 1 Axes>"
      ]
     },
     "metadata": {
      "needs_background": "light"
     },
     "output_type": "display_data"
    }
   ],
   "source": [
    "value_counts = dataDF[\"Class\"].value_counts()\n",
    "value_counts.plot(kind=\"bar\", title=\"Class distribution of the target variable\");"
   ]
  },
  {
   "cell_type": "code",
   "execution_count": 7,
   "metadata": {},
   "outputs": [
    {
     "name": "stdout",
     "output_type": "stream",
     "text": [
      "Fraudulent transactions are 0.17% of the complete dataset.\n"
     ]
    }
   ],
   "source": [
    "print(\"Fraudulent transactions are %.2f%% of the complete dataset.\" % (value_counts[1] * 100 / value_counts[0]))"
   ]
  },
  {
   "cell_type": "markdown",
   "metadata": {},
   "source": [
    "As expected, the majority of the samples are legitimate transactions. Only 0.17% of the transactions are flagged as fraudulent.\n",
    "\n",
    "Let's also look at the basic descriptive statistics for all attributes."
   ]
  },
  {
   "cell_type": "code",
   "execution_count": 8,
   "metadata": {},
   "outputs": [
    {
     "data": {
      "text/html": [
       "<div>\n",
       "<style scoped>\n",
       "    .dataframe tbody tr th:only-of-type {\n",
       "        vertical-align: middle;\n",
       "    }\n",
       "\n",
       "    .dataframe tbody tr th {\n",
       "        vertical-align: top;\n",
       "    }\n",
       "\n",
       "    .dataframe thead th {\n",
       "        text-align: right;\n",
       "    }\n",
       "</style>\n",
       "<table border=\"1\" class=\"dataframe\">\n",
       "  <thead>\n",
       "    <tr style=\"text-align: right;\">\n",
       "      <th></th>\n",
       "      <th>Time</th>\n",
       "      <th>V1</th>\n",
       "      <th>V2</th>\n",
       "      <th>V3</th>\n",
       "      <th>V4</th>\n",
       "      <th>V5</th>\n",
       "      <th>V6</th>\n",
       "      <th>V7</th>\n",
       "      <th>V8</th>\n",
       "      <th>V9</th>\n",
       "      <th>...</th>\n",
       "      <th>V21</th>\n",
       "      <th>V22</th>\n",
       "      <th>V23</th>\n",
       "      <th>V24</th>\n",
       "      <th>V25</th>\n",
       "      <th>V26</th>\n",
       "      <th>V27</th>\n",
       "      <th>V28</th>\n",
       "      <th>Amount</th>\n",
       "      <th>Class</th>\n",
       "    </tr>\n",
       "  </thead>\n",
       "  <tbody>\n",
       "    <tr>\n",
       "      <th>count</th>\n",
       "      <td>284807.000</td>\n",
       "      <td>284807.000</td>\n",
       "      <td>284807.000</td>\n",
       "      <td>284807.000</td>\n",
       "      <td>284807.000</td>\n",
       "      <td>284807.000</td>\n",
       "      <td>284807.000</td>\n",
       "      <td>284807.000</td>\n",
       "      <td>284807.000</td>\n",
       "      <td>284807.000</td>\n",
       "      <td>...</td>\n",
       "      <td>284807.000</td>\n",
       "      <td>284807.000</td>\n",
       "      <td>284807.000</td>\n",
       "      <td>284807.000</td>\n",
       "      <td>284807.000</td>\n",
       "      <td>284807.000</td>\n",
       "      <td>284807.000</td>\n",
       "      <td>284807.000</td>\n",
       "      <td>284807.000</td>\n",
       "      <td>284807.000</td>\n",
       "    </tr>\n",
       "    <tr>\n",
       "      <th>mean</th>\n",
       "      <td>94813.860</td>\n",
       "      <td>0.000</td>\n",
       "      <td>0.000</td>\n",
       "      <td>-0.000</td>\n",
       "      <td>0.000</td>\n",
       "      <td>-0.000</td>\n",
       "      <td>0.000</td>\n",
       "      <td>-0.000</td>\n",
       "      <td>-0.000</td>\n",
       "      <td>-0.000</td>\n",
       "      <td>...</td>\n",
       "      <td>0.000</td>\n",
       "      <td>0.000</td>\n",
       "      <td>0.000</td>\n",
       "      <td>0.000</td>\n",
       "      <td>0.000</td>\n",
       "      <td>0.000</td>\n",
       "      <td>-0.000</td>\n",
       "      <td>-0.000</td>\n",
       "      <td>88.350</td>\n",
       "      <td>0.002</td>\n",
       "    </tr>\n",
       "    <tr>\n",
       "      <th>std</th>\n",
       "      <td>47488.146</td>\n",
       "      <td>1.959</td>\n",
       "      <td>1.651</td>\n",
       "      <td>1.516</td>\n",
       "      <td>1.416</td>\n",
       "      <td>1.380</td>\n",
       "      <td>1.332</td>\n",
       "      <td>1.237</td>\n",
       "      <td>1.194</td>\n",
       "      <td>1.099</td>\n",
       "      <td>...</td>\n",
       "      <td>0.735</td>\n",
       "      <td>0.726</td>\n",
       "      <td>0.624</td>\n",
       "      <td>0.606</td>\n",
       "      <td>0.521</td>\n",
       "      <td>0.482</td>\n",
       "      <td>0.404</td>\n",
       "      <td>0.330</td>\n",
       "      <td>250.120</td>\n",
       "      <td>0.042</td>\n",
       "    </tr>\n",
       "    <tr>\n",
       "      <th>min</th>\n",
       "      <td>0.000</td>\n",
       "      <td>-56.408</td>\n",
       "      <td>-72.716</td>\n",
       "      <td>-48.326</td>\n",
       "      <td>-5.683</td>\n",
       "      <td>-113.743</td>\n",
       "      <td>-26.161</td>\n",
       "      <td>-43.557</td>\n",
       "      <td>-73.217</td>\n",
       "      <td>-13.434</td>\n",
       "      <td>...</td>\n",
       "      <td>-34.830</td>\n",
       "      <td>-10.933</td>\n",
       "      <td>-44.808</td>\n",
       "      <td>-2.837</td>\n",
       "      <td>-10.295</td>\n",
       "      <td>-2.605</td>\n",
       "      <td>-22.566</td>\n",
       "      <td>-15.430</td>\n",
       "      <td>0.000</td>\n",
       "      <td>0.000</td>\n",
       "    </tr>\n",
       "    <tr>\n",
       "      <th>25%</th>\n",
       "      <td>54201.500</td>\n",
       "      <td>-0.920</td>\n",
       "      <td>-0.599</td>\n",
       "      <td>-0.890</td>\n",
       "      <td>-0.849</td>\n",
       "      <td>-0.692</td>\n",
       "      <td>-0.768</td>\n",
       "      <td>-0.554</td>\n",
       "      <td>-0.209</td>\n",
       "      <td>-0.643</td>\n",
       "      <td>...</td>\n",
       "      <td>-0.228</td>\n",
       "      <td>-0.542</td>\n",
       "      <td>-0.162</td>\n",
       "      <td>-0.355</td>\n",
       "      <td>-0.317</td>\n",
       "      <td>-0.327</td>\n",
       "      <td>-0.071</td>\n",
       "      <td>-0.053</td>\n",
       "      <td>5.600</td>\n",
       "      <td>0.000</td>\n",
       "    </tr>\n",
       "    <tr>\n",
       "      <th>50%</th>\n",
       "      <td>84692.000</td>\n",
       "      <td>0.018</td>\n",
       "      <td>0.065</td>\n",
       "      <td>0.180</td>\n",
       "      <td>-0.020</td>\n",
       "      <td>-0.054</td>\n",
       "      <td>-0.274</td>\n",
       "      <td>0.040</td>\n",
       "      <td>0.022</td>\n",
       "      <td>-0.051</td>\n",
       "      <td>...</td>\n",
       "      <td>-0.029</td>\n",
       "      <td>0.007</td>\n",
       "      <td>-0.011</td>\n",
       "      <td>0.041</td>\n",
       "      <td>0.017</td>\n",
       "      <td>-0.052</td>\n",
       "      <td>0.001</td>\n",
       "      <td>0.011</td>\n",
       "      <td>22.000</td>\n",
       "      <td>0.000</td>\n",
       "    </tr>\n",
       "    <tr>\n",
       "      <th>75%</th>\n",
       "      <td>139320.500</td>\n",
       "      <td>1.316</td>\n",
       "      <td>0.804</td>\n",
       "      <td>1.027</td>\n",
       "      <td>0.743</td>\n",
       "      <td>0.612</td>\n",
       "      <td>0.399</td>\n",
       "      <td>0.570</td>\n",
       "      <td>0.327</td>\n",
       "      <td>0.597</td>\n",
       "      <td>...</td>\n",
       "      <td>0.186</td>\n",
       "      <td>0.529</td>\n",
       "      <td>0.148</td>\n",
       "      <td>0.440</td>\n",
       "      <td>0.351</td>\n",
       "      <td>0.241</td>\n",
       "      <td>0.091</td>\n",
       "      <td>0.078</td>\n",
       "      <td>77.165</td>\n",
       "      <td>0.000</td>\n",
       "    </tr>\n",
       "    <tr>\n",
       "      <th>max</th>\n",
       "      <td>172792.000</td>\n",
       "      <td>2.455</td>\n",
       "      <td>22.058</td>\n",
       "      <td>9.383</td>\n",
       "      <td>16.875</td>\n",
       "      <td>34.802</td>\n",
       "      <td>73.302</td>\n",
       "      <td>120.589</td>\n",
       "      <td>20.007</td>\n",
       "      <td>15.595</td>\n",
       "      <td>...</td>\n",
       "      <td>27.203</td>\n",
       "      <td>10.503</td>\n",
       "      <td>22.528</td>\n",
       "      <td>4.585</td>\n",
       "      <td>7.520</td>\n",
       "      <td>3.517</td>\n",
       "      <td>31.612</td>\n",
       "      <td>33.848</td>\n",
       "      <td>25691.160</td>\n",
       "      <td>1.000</td>\n",
       "    </tr>\n",
       "  </tbody>\n",
       "</table>\n",
       "<p>8 rows × 31 columns</p>\n",
       "</div>"
      ],
      "text/plain": [
       "            Time         V1         V2         V3         V4         V5  \\\n",
       "count 284807.000 284807.000 284807.000 284807.000 284807.000 284807.000   \n",
       "mean   94813.860      0.000      0.000     -0.000      0.000     -0.000   \n",
       "std    47488.146      1.959      1.651      1.516      1.416      1.380   \n",
       "min        0.000    -56.408    -72.716    -48.326     -5.683   -113.743   \n",
       "25%    54201.500     -0.920     -0.599     -0.890     -0.849     -0.692   \n",
       "50%    84692.000      0.018      0.065      0.180     -0.020     -0.054   \n",
       "75%   139320.500      1.316      0.804      1.027      0.743      0.612   \n",
       "max   172792.000      2.455     22.058      9.383     16.875     34.802   \n",
       "\n",
       "              V6         V7         V8         V9  ...        V21        V22  \\\n",
       "count 284807.000 284807.000 284807.000 284807.000  ... 284807.000 284807.000   \n",
       "mean       0.000     -0.000     -0.000     -0.000  ...      0.000      0.000   \n",
       "std        1.332      1.237      1.194      1.099  ...      0.735      0.726   \n",
       "min      -26.161    -43.557    -73.217    -13.434  ...    -34.830    -10.933   \n",
       "25%       -0.768     -0.554     -0.209     -0.643  ...     -0.228     -0.542   \n",
       "50%       -0.274      0.040      0.022     -0.051  ...     -0.029      0.007   \n",
       "75%        0.399      0.570      0.327      0.597  ...      0.186      0.529   \n",
       "max       73.302    120.589     20.007     15.595  ...     27.203     10.503   \n",
       "\n",
       "             V23        V24        V25        V26        V27        V28  \\\n",
       "count 284807.000 284807.000 284807.000 284807.000 284807.000 284807.000   \n",
       "mean       0.000      0.000      0.000      0.000     -0.000     -0.000   \n",
       "std        0.624      0.606      0.521      0.482      0.404      0.330   \n",
       "min      -44.808     -2.837    -10.295     -2.605    -22.566    -15.430   \n",
       "25%       -0.162     -0.355     -0.317     -0.327     -0.071     -0.053   \n",
       "50%       -0.011      0.041      0.017     -0.052      0.001      0.011   \n",
       "75%        0.148      0.440      0.351      0.241      0.091      0.078   \n",
       "max       22.528      4.585      7.520      3.517     31.612     33.848   \n",
       "\n",
       "          Amount      Class  \n",
       "count 284807.000 284807.000  \n",
       "mean      88.350      0.002  \n",
       "std      250.120      0.042  \n",
       "min        0.000      0.000  \n",
       "25%        5.600      0.000  \n",
       "50%       22.000      0.000  \n",
       "75%       77.165      0.000  \n",
       "max    25691.160      1.000  \n",
       "\n",
       "[8 rows x 31 columns]"
      ]
     },
     "execution_count": 8,
     "metadata": {},
     "output_type": "execute_result"
    }
   ],
   "source": [
    "pd.set_option(\"display.float_format\", lambda x: \"%.3f\" % x)\n",
    "dataDF.describe()"
   ]
  },
  {
   "cell_type": "markdown",
   "metadata": {},
   "source": [
    "Inspecting the statistics above reveals that the V1-V28 attributes are zero-centered, but this is not the case for the other two input attributes Time and Amount. "
   ]
  },
  {
   "cell_type": "code",
   "execution_count": 9,
   "metadata": {},
   "outputs": [
    {
     "data": {
      "text/html": [
       "<div>\n",
       "<style scoped>\n",
       "    .dataframe tbody tr th:only-of-type {\n",
       "        vertical-align: middle;\n",
       "    }\n",
       "\n",
       "    .dataframe tbody tr th {\n",
       "        vertical-align: top;\n",
       "    }\n",
       "\n",
       "    .dataframe thead th {\n",
       "        text-align: right;\n",
       "    }\n",
       "</style>\n",
       "<table border=\"1\" class=\"dataframe\">\n",
       "  <thead>\n",
       "    <tr style=\"text-align: right;\">\n",
       "      <th></th>\n",
       "      <th>Amount</th>\n",
       "      <th>Time</th>\n",
       "    </tr>\n",
       "  </thead>\n",
       "  <tbody>\n",
       "    <tr>\n",
       "      <th>count</th>\n",
       "      <td>284807.000</td>\n",
       "      <td>284807.000</td>\n",
       "    </tr>\n",
       "    <tr>\n",
       "      <th>mean</th>\n",
       "      <td>88.350</td>\n",
       "      <td>94813.860</td>\n",
       "    </tr>\n",
       "    <tr>\n",
       "      <th>std</th>\n",
       "      <td>250.120</td>\n",
       "      <td>47488.146</td>\n",
       "    </tr>\n",
       "    <tr>\n",
       "      <th>min</th>\n",
       "      <td>0.000</td>\n",
       "      <td>0.000</td>\n",
       "    </tr>\n",
       "    <tr>\n",
       "      <th>25%</th>\n",
       "      <td>5.600</td>\n",
       "      <td>54201.500</td>\n",
       "    </tr>\n",
       "    <tr>\n",
       "      <th>50%</th>\n",
       "      <td>22.000</td>\n",
       "      <td>84692.000</td>\n",
       "    </tr>\n",
       "    <tr>\n",
       "      <th>75%</th>\n",
       "      <td>77.165</td>\n",
       "      <td>139320.500</td>\n",
       "    </tr>\n",
       "    <tr>\n",
       "      <th>max</th>\n",
       "      <td>25691.160</td>\n",
       "      <td>172792.000</td>\n",
       "    </tr>\n",
       "  </tbody>\n",
       "</table>\n",
       "</div>"
      ],
      "text/plain": [
       "          Amount       Time\n",
       "count 284807.000 284807.000\n",
       "mean      88.350  94813.860\n",
       "std      250.120  47488.146\n",
       "min        0.000      0.000\n",
       "25%        5.600  54201.500\n",
       "50%       22.000  84692.000\n",
       "75%       77.165 139320.500\n",
       "max    25691.160 172792.000"
      ]
     },
     "execution_count": 9,
     "metadata": {},
     "output_type": "execute_result"
    }
   ],
   "source": [
    "dataDF[[\"Amount\", \"Time\"]].describe()"
   ]
  },
  {
   "cell_type": "markdown",
   "metadata": {},
   "source": [
    "We can also plot the histograms for all input attributes and make sure nothing unusual stands out."
   ]
  },
  {
   "cell_type": "code",
   "execution_count": 10,
   "metadata": {},
   "outputs": [
    {
     "data": {
      "image/png": "[encoded data removed]",
      "text/plain": [
       "<Figure size 720x864 with 30 Axes>"
      ]
     },
     "metadata": {
      "needs_background": "light"
     },
     "output_type": "display_data"
    }
   ],
   "source": [
    "ax = dataDF.drop(\"Class\", axis=1).hist(figsize=(10,12),bins=100)\n",
    "# We can hide the axes' labels to make the plot neater and more compact \n",
    "for axis in ax.flatten():\n",
    "    axis.set_xticklabels([])\n",
    "    axis.set_yticklabels([])"
   ]
  },
  {
   "cell_type": "markdown",
   "metadata": {},
   "source": [
    "There isn't much we can do about the principal components, but it looks like the Amount and Time attributes deserve a more detailed inspection.\n",
    "\n",
    "First of all, the basic statistics for Time suggest that this attribute is given as a timestamp (seconds). We can convert it to local date and extract the hours in an attempt to identify if the hour of the transaction is correlated with the possibility of a transaction being fraudulent."
   ]
  },
  {
   "cell_type": "code",
   "execution_count": 11,
   "metadata": {},
   "outputs": [],
   "source": [
    "dataDF[\"Hour\"] = dataDF[\"Time\"].apply(datetime.fromtimestamp).dt.hour"
   ]
  },
  {
   "cell_type": "code",
   "execution_count": 12,
   "metadata": {},
   "outputs": [
    {
     "data": {
      "image/png": "[encoded data removed]",
      "text/plain": [
       "<Figure size 720x504 with 2 Axes>"
      ]
     },
     "metadata": {
      "needs_background": "light"
     },
     "output_type": "display_data"
    }
   ],
   "source": [
    "fig, ax = plt.subplots(2, figsize=(10,7))\n",
    "for a in ax:\n",
    "    a.set_xticks(range(24))\n",
    "dataDF.loc[dataDF[\"Class\"] == 0][\"Hour\"].hist(bins=np.arange(24)-0.5, ax=ax[0], grid=False)\n",
    "dataDF.loc[dataDF[\"Class\"] == 1][\"Hour\"].hist(bins=np.arange(24)-0.5, ax=ax[1], grid=False)\n",
    "ax[0].title.set_text(\"Legitimate Transactions\")\n",
    "ax[1].title.set_text(\"Fraudulent Transactions\")\n",
    "plt.subplots_adjust(hspace=0.3)"
   ]
  },
  {
   "cell_type": "markdown",
   "metadata": {},
   "source": [
    "It appears that the legitimate transactions plunge during the night and their rate increases with the start of the working day. In contrast, there is a peak of fraudulent transactions at around 2am that looks unusual. In addition, the data for the fraudulent transactions looks more evenly spread. Let's write a simple function that will allow us to compare the basic statistics for a single attribute across the fraud/no-fraud classes."
   ]
  },
  {
   "cell_type": "code",
   "execution_count": 13,
   "metadata": {},
   "outputs": [
    {
     "data": {
      "text/html": [
       "<div>\n",
       "<style scoped>\n",
       "    .dataframe tbody tr th:only-of-type {\n",
       "        vertical-align: middle;\n",
       "    }\n",
       "\n",
       "    .dataframe tbody tr th {\n",
       "        vertical-align: top;\n",
       "    }\n",
       "\n",
       "    .dataframe thead th {\n",
       "        text-align: right;\n",
       "    }\n",
       "</style>\n",
       "<table border=\"1\" class=\"dataframe\">\n",
       "  <thead>\n",
       "    <tr style=\"text-align: right;\">\n",
       "      <th></th>\n",
       "      <th>Legitimate</th>\n",
       "      <th>Fraudulent</th>\n",
       "    </tr>\n",
       "  </thead>\n",
       "  <tbody>\n",
       "    <tr>\n",
       "      <th>count</th>\n",
       "      <td>284315.000</td>\n",
       "      <td>492.000</td>\n",
       "    </tr>\n",
       "    <tr>\n",
       "      <th>mean</th>\n",
       "      <td>14.051</td>\n",
       "      <td>11.646</td>\n",
       "    </tr>\n",
       "    <tr>\n",
       "      <th>std</th>\n",
       "      <td>5.833</td>\n",
       "      <td>6.663</td>\n",
       "    </tr>\n",
       "    <tr>\n",
       "      <th>min</th>\n",
       "      <td>0.000</td>\n",
       "      <td>0.000</td>\n",
       "    </tr>\n",
       "    <tr>\n",
       "      <th>25%</th>\n",
       "      <td>10.000</td>\n",
       "      <td>5.000</td>\n",
       "    </tr>\n",
       "    <tr>\n",
       "      <th>50%</th>\n",
       "      <td>15.000</td>\n",
       "      <td>12.000</td>\n",
       "    </tr>\n",
       "    <tr>\n",
       "      <th>75%</th>\n",
       "      <td>19.000</td>\n",
       "      <td>17.000</td>\n",
       "    </tr>\n",
       "    <tr>\n",
       "      <th>max</th>\n",
       "      <td>23.000</td>\n",
       "      <td>23.000</td>\n",
       "    </tr>\n",
       "  </tbody>\n",
       "</table>\n",
       "</div>"
      ],
      "text/plain": [
       "       Legitimate  Fraudulent\n",
       "count  284315.000     492.000\n",
       "mean       14.051      11.646\n",
       "std         5.833       6.663\n",
       "min         0.000       0.000\n",
       "25%        10.000       5.000\n",
       "50%        15.000      12.000\n",
       "75%        19.000      17.000\n",
       "max        23.000      23.000"
      ]
     },
     "execution_count": 13,
     "metadata": {},
     "output_type": "execute_result"
    }
   ],
   "source": [
    "def compare_leg_fraud(attribute):\n",
    "    leg_trS = dataDF.loc[dataDF[\"Class\"] == 0][attribute].rename(\"Legitimate\").describe()\n",
    "    frd_trS = dataDF.loc[dataDF[\"Class\"] == 1][attribute].rename(\"Fraudulent\").describe()\n",
    "    tr_hourDF = leg_trS.to_frame().join(frd_trS.to_frame())\n",
    "    return tr_hourDF\n",
    "    \n",
    "compare_leg_fraud(\"Hour\")"
   ]
  },
  {
   "cell_type": "markdown",
   "metadata": {},
   "source": [
    "The fraudulent transactions definitely have a higher standard deviation, but given their relatively low number we can't be certain if this is a genuine pattern or just a statistical coincidence."
   ]
  },
  {
   "cell_type": "markdown",
   "metadata": {},
   "source": [
    "We now shift our attention to the transaction amount. Let's visualise the distribution of fraudulent vs legitimate transactions via histograms."
   ]
  },
  {
   "cell_type": "code",
   "execution_count": 14,
   "metadata": {},
   "outputs": [
    {
     "data": {
      "image/png": "[encoded data removed]",
      "text/plain": [
       "<Figure size 648x504 with 2 Axes>"
      ]
     },
     "metadata": {
      "needs_background": "light"
     },
     "output_type": "display_data"
    }
   ],
   "source": [
    "fig, ax = plt.subplots(2, figsize=(9,7))\n",
    "dataDF.loc[dataDF[\"Class\"] == 0][\"Amount\"].hist(bins=30, ax=ax[0])\n",
    "dataDF.loc[dataDF[\"Class\"] == 1][\"Amount\"].hist(bins=30, ax=ax[1])\n",
    "ax[0].title.set_text(\"Legitimate Transactions\")\n",
    "ax[1].title.set_text(\"Fraudulent Transactions\")\n",
    "plt.subplots_adjust(hspace=0.3);"
   ]
  },
  {
   "cell_type": "markdown",
   "metadata": {},
   "source": [
    "Let's also look at the basic statistics for the Amount attribute."
   ]
  },
  {
   "cell_type": "code",
   "execution_count": 15,
   "metadata": {},
   "outputs": [
    {
     "data": {
      "text/html": [
       "<div>\n",
       "<style scoped>\n",
       "    .dataframe tbody tr th:only-of-type {\n",
       "        vertical-align: middle;\n",
       "    }\n",
       "\n",
       "    .dataframe tbody tr th {\n",
       "        vertical-align: top;\n",
       "    }\n",
       "\n",
       "    .dataframe thead th {\n",
       "        text-align: right;\n",
       "    }\n",
       "</style>\n",
       "<table border=\"1\" class=\"dataframe\">\n",
       "  <thead>\n",
       "    <tr style=\"text-align: right;\">\n",
       "      <th></th>\n",
       "      <th>Legitimate</th>\n",
       "      <th>Fraudulent</th>\n",
       "    </tr>\n",
       "  </thead>\n",
       "  <tbody>\n",
       "    <tr>\n",
       "      <th>count</th>\n",
       "      <td>284315.000</td>\n",
       "      <td>492.000</td>\n",
       "    </tr>\n",
       "    <tr>\n",
       "      <th>mean</th>\n",
       "      <td>88.291</td>\n",
       "      <td>122.211</td>\n",
       "    </tr>\n",
       "    <tr>\n",
       "      <th>std</th>\n",
       "      <td>250.105</td>\n",
       "      <td>256.683</td>\n",
       "    </tr>\n",
       "    <tr>\n",
       "      <th>min</th>\n",
       "      <td>0.000</td>\n",
       "      <td>0.000</td>\n",
       "    </tr>\n",
       "    <tr>\n",
       "      <th>25%</th>\n",
       "      <td>5.650</td>\n",
       "      <td>1.000</td>\n",
       "    </tr>\n",
       "    <tr>\n",
       "      <th>50%</th>\n",
       "      <td>22.000</td>\n",
       "      <td>9.250</td>\n",
       "    </tr>\n",
       "    <tr>\n",
       "      <th>75%</th>\n",
       "      <td>77.050</td>\n",
       "      <td>105.890</td>\n",
       "    </tr>\n",
       "    <tr>\n",
       "      <th>max</th>\n",
       "      <td>25691.160</td>\n",
       "      <td>2125.870</td>\n",
       "    </tr>\n",
       "  </tbody>\n",
       "</table>\n",
       "</div>"
      ],
      "text/plain": [
       "       Legitimate  Fraudulent\n",
       "count  284315.000     492.000\n",
       "mean       88.291     122.211\n",
       "std       250.105     256.683\n",
       "min         0.000       0.000\n",
       "25%         5.650       1.000\n",
       "50%        22.000       9.250\n",
       "75%        77.050     105.890\n",
       "max     25691.160    2125.870"
      ]
     },
     "execution_count": 15,
     "metadata": {},
     "output_type": "execute_result"
    }
   ],
   "source": [
    "compare_leg_fraud(\"Amount\")"
   ]
  },
  {
   "cell_type": "markdown",
   "metadata": {},
   "source": [
    "It looks like the mean transaction amount is higher for fraudulent transactions, although the overall amount is significantly lower in absolute terms. We can also look at the top 5 most frequent legitimate transactions. "
   ]
  },
  {
   "cell_type": "code",
   "execution_count": 16,
   "metadata": {},
   "outputs": [
    {
     "data": {
      "text/plain": [
       "1.000    4.775\n",
       "1.980    2.126\n",
       "0.890    1.714\n",
       "9.990    1.669\n",
       "15.000   1.154\n",
       "Name: Amount, dtype: float64"
      ]
     },
     "execution_count": 16,
     "metadata": {},
     "output_type": "execute_result"
    }
   ],
   "source": [
    "(dataDF.loc[dataDF[\"Class\"] == 0][\"Amount\"].value_counts(normalize=True)*100).head()"
   ]
  },
  {
   "cell_type": "markdown",
   "metadata": {},
   "source": [
    "versus the top 5 fraudulent transactions."
   ]
  },
  {
   "cell_type": "code",
   "execution_count": 17,
   "metadata": {},
   "outputs": [
    {
     "data": {
      "text/plain": [
       "1.000    22.967\n",
       "0.000     5.488\n",
       "99.990    5.488\n",
       "0.760     3.455\n",
       "0.770     2.033\n",
       "Name: Amount, dtype: float64"
      ]
     },
     "execution_count": 17,
     "metadata": {},
     "output_type": "execute_result"
    }
   ],
   "source": [
    "(dataDF.loc[dataDF[\"Class\"] == 1][\"Amount\"].value_counts(normalize=True)*100).head()"
   ]
  },
  {
   "cell_type": "markdown",
   "metadata": {},
   "source": [
    "We see that nearly 23% of all fraudulent transactions amount to 1.0, where the percentage for the same transaction amount in the legitimate set is closer to 5%. We also see a large number of 0-value transactions, which is probably the result of a cardholder details verification transactions."
   ]
  },
  {
   "cell_type": "markdown",
   "metadata": {},
   "source": [
    "## Feature Engineering <a name=\"fe\"></a>"
   ]
  },
  {
   "cell_type": "markdown",
   "metadata": {},
   "source": [
    "The first thing we'll do before we attempt any feature engineering is to create a holdout set. This is to prevent any information leakage into our test set. "
   ]
  },
  {
   "cell_type": "code",
   "execution_count": 18,
   "metadata": {},
   "outputs": [
    {
     "name": "stdout",
     "output_type": "stream",
     "text": [
      "Fraudulent transactions are 0.17% of the training set.\n",
      "Fraudulent transactions are 0.17% of the test set.\n"
     ]
    }
   ],
   "source": [
    "trainDF, testDF = train_test_split(dataDF, test_size=0.2, random_state=1234, stratify=dataDF[[\"Class\"]])\n",
    "\n",
    "tr_value_counts = trainDF[\"Class\"].value_counts()\n",
    "print(\"Fraudulent transactions are %.2f%% of the training set.\" % (tr_value_counts[1] * 100 / len(trainDF)))\n",
    "\n",
    "tst_value_counts = testDF[\"Class\"].value_counts()\n",
    "print(\"Fraudulent transactions are %.2f%% of the test set.\" % (tst_value_counts[1] * 100 / len(testDF)))"
   ]
  },
  {
   "cell_type": "markdown",
   "metadata": {},
   "source": [
    "We noticed during the exploratory analysis that the Amount column is not zero mean centered. Let's fix this, and also center the Hour attribute, which we'll be using instead of Time."
   ]
  },
  {
   "cell_type": "code",
   "execution_count": 19,
   "metadata": {},
   "outputs": [],
   "source": [
    "trainDF_norm = trainDF.copy()\n",
    "\n",
    "trainDF_norm[\"Amount\"] = trainDF[\"Amount\"].subtract(trainDF[\"Amount\"].mean())\n",
    "trainDF_norm[\"Hour\"] = trainDF[\"Hour\"].subtract(trainDF[\"Hour\"].mean())\n",
    "\n",
    "\n",
    "testDF_norm = testDF.copy()\n",
    "\n",
    "testDF_norm[\"Amount\"] = testDF[\"Amount\"].subtract(testDF[\"Amount\"].mean())\n",
    "testDF_norm[\"Hour\"] = testDF[\"Hour\"].subtract(testDF[\"Hour\"].mean())\n",
    "\n",
    "trainDF = trainDF_norm\n",
    "testDF = testDF_norm"
   ]
  },
  {
   "cell_type": "markdown",
   "metadata": {},
   "source": [
    "Next, we drop the Time attribute as we will be using Hour instead."
   ]
  },
  {
   "cell_type": "code",
   "execution_count": 20,
   "metadata": {},
   "outputs": [],
   "source": [
    "trainDF = trainDF.drop([\"Time\"], axis=1)\n",
    "testDF = testDF.drop([\"Time\"], axis=1)"
   ]
  },
  {
   "cell_type": "markdown",
   "metadata": {},
   "source": [
    "Now let's split the independent and the class variables into separate data frames."
   ]
  },
  {
   "cell_type": "code",
   "execution_count": 21,
   "metadata": {},
   "outputs": [],
   "source": [
    "X_train = trainDF.iloc[:, trainDF.columns != \"Class\"]\n",
    "y_train = trainDF.iloc[:, trainDF.columns == \"Class\"]\n",
    "X_test = testDF.iloc[:, testDF.columns != \"Class\"]\n",
    "y_test = testDF.iloc[:, testDF.columns == \"Class\"]"
   ]
  },
  {
   "cell_type": "code",
   "execution_count": 22,
   "metadata": {},
   "outputs": [
    {
     "data": {
      "text/html": [
       "<div>\n",
       "<style scoped>\n",
       "    .dataframe tbody tr th:only-of-type {\n",
       "        vertical-align: middle;\n",
       "    }\n",
       "\n",
       "    .dataframe tbody tr th {\n",
       "        vertical-align: top;\n",
       "    }\n",
       "\n",
       "    .dataframe thead th {\n",
       "        text-align: right;\n",
       "    }\n",
       "</style>\n",
       "<table border=\"1\" class=\"dataframe\">\n",
       "  <thead>\n",
       "    <tr style=\"text-align: right;\">\n",
       "      <th></th>\n",
       "      <th>V1</th>\n",
       "      <th>V2</th>\n",
       "      <th>V3</th>\n",
       "      <th>V4</th>\n",
       "      <th>V5</th>\n",
       "      <th>V6</th>\n",
       "      <th>V7</th>\n",
       "      <th>V8</th>\n",
       "      <th>V9</th>\n",
       "      <th>V10</th>\n",
       "      <th>...</th>\n",
       "      <th>V21</th>\n",
       "      <th>V22</th>\n",
       "      <th>V23</th>\n",
       "      <th>V24</th>\n",
       "      <th>V25</th>\n",
       "      <th>V26</th>\n",
       "      <th>V27</th>\n",
       "      <th>V28</th>\n",
       "      <th>Amount</th>\n",
       "      <th>Hour</th>\n",
       "    </tr>\n",
       "  </thead>\n",
       "  <tbody>\n",
       "    <tr>\n",
       "      <th>135152</th>\n",
       "      <td>1.082</td>\n",
       "      <td>-0.075</td>\n",
       "      <td>1.395</td>\n",
       "      <td>1.373</td>\n",
       "      <td>-0.958</td>\n",
       "      <td>0.077</td>\n",
       "      <td>-0.625</td>\n",
       "      <td>0.205</td>\n",
       "      <td>0.861</td>\n",
       "      <td>-0.248</td>\n",
       "      <td>...</td>\n",
       "      <td>-0.012</td>\n",
       "      <td>0.204</td>\n",
       "      <td>0.063</td>\n",
       "      <td>0.399</td>\n",
       "      <td>0.298</td>\n",
       "      <td>-0.400</td>\n",
       "      <td>0.089</td>\n",
       "      <td>0.039</td>\n",
       "      <td>-76.750</td>\n",
       "      <td>7.946</td>\n",
       "    </tr>\n",
       "    <tr>\n",
       "      <th>103706</th>\n",
       "      <td>1.013</td>\n",
       "      <td>0.188</td>\n",
       "      <td>1.615</td>\n",
       "      <td>2.594</td>\n",
       "      <td>-0.609</td>\n",
       "      <td>0.839</td>\n",
       "      <td>-0.683</td>\n",
       "      <td>0.400</td>\n",
       "      <td>-0.260</td>\n",
       "      <td>0.597</td>\n",
       "      <td>...</td>\n",
       "      <td>0.017</td>\n",
       "      <td>0.218</td>\n",
       "      <td>0.074</td>\n",
       "      <td>0.230</td>\n",
       "      <td>0.185</td>\n",
       "      <td>-0.046</td>\n",
       "      <td>0.059</td>\n",
       "      <td>0.027</td>\n",
       "      <td>-81.450</td>\n",
       "      <td>4.946</td>\n",
       "    </tr>\n",
       "    <tr>\n",
       "      <th>231651</th>\n",
       "      <td>-0.701</td>\n",
       "      <td>0.090</td>\n",
       "      <td>1.540</td>\n",
       "      <td>-3.114</td>\n",
       "      <td>0.458</td>\n",
       "      <td>0.431</td>\n",
       "      <td>0.183</td>\n",
       "      <td>0.195</td>\n",
       "      <td>-1.230</td>\n",
       "      <td>-0.503</td>\n",
       "      <td>...</td>\n",
       "      <td>-0.069</td>\n",
       "      <td>-0.367</td>\n",
       "      <td>-0.449</td>\n",
       "      <td>-1.461</td>\n",
       "      <td>0.628</td>\n",
       "      <td>-0.475</td>\n",
       "      <td>0.004</td>\n",
       "      <td>0.027</td>\n",
       "      <td>-76.250</td>\n",
       "      <td>1.946</td>\n",
       "    </tr>\n",
       "    <tr>\n",
       "      <th>199939</th>\n",
       "      <td>-0.430</td>\n",
       "      <td>-0.595</td>\n",
       "      <td>0.676</td>\n",
       "      <td>-2.603</td>\n",
       "      <td>1.499</td>\n",
       "      <td>4.231</td>\n",
       "      <td>-1.079</td>\n",
       "      <td>1.239</td>\n",
       "      <td>-0.798</td>\n",
       "      <td>-0.003</td>\n",
       "      <td>...</td>\n",
       "      <td>-0.015</td>\n",
       "      <td>0.214</td>\n",
       "      <td>0.090</td>\n",
       "      <td>0.694</td>\n",
       "      <td>-0.698</td>\n",
       "      <td>0.592</td>\n",
       "      <td>0.158</td>\n",
       "      <td>0.166</td>\n",
       "      <td>-42.350</td>\n",
       "      <td>-1.054</td>\n",
       "    </tr>\n",
       "    <tr>\n",
       "      <th>103404</th>\n",
       "      <td>1.296</td>\n",
       "      <td>1.011</td>\n",
       "      <td>-3.192</td>\n",
       "      <td>0.472</td>\n",
       "      <td>3.350</td>\n",
       "      <td>2.433</td>\n",
       "      <td>0.190</td>\n",
       "      <td>0.622</td>\n",
       "      <td>-0.557</td>\n",
       "      <td>-1.487</td>\n",
       "      <td>...</td>\n",
       "      <td>-0.263</td>\n",
       "      <td>-0.825</td>\n",
       "      <td>-0.245</td>\n",
       "      <td>0.675</td>\n",
       "      <td>1.011</td>\n",
       "      <td>-0.279</td>\n",
       "      <td>0.041</td>\n",
       "      <td>0.091</td>\n",
       "      <td>-83.260</td>\n",
       "      <td>4.946</td>\n",
       "    </tr>\n",
       "  </tbody>\n",
       "</table>\n",
       "<p>5 rows × 30 columns</p>\n",
       "</div>"
      ],
      "text/plain": [
       "           V1     V2     V3     V4     V5    V6     V7    V8     V9    V10  \\\n",
       "135152  1.082 -0.075  1.395  1.373 -0.958 0.077 -0.625 0.205  0.861 -0.248   \n",
       "103706  1.013  0.188  1.615  2.594 -0.609 0.839 -0.683 0.400 -0.260  0.597   \n",
       "231651 -0.701  0.090  1.540 -3.114  0.458 0.431  0.183 0.195 -1.230 -0.503   \n",
       "199939 -0.430 -0.595  0.676 -2.603  1.499 4.231 -1.079 1.239 -0.798 -0.003   \n",
       "103404  1.296  1.011 -3.192  0.472  3.350 2.433  0.190 0.622 -0.557 -1.487   \n",
       "\n",
       "        ...    V21    V22    V23    V24    V25    V26   V27   V28  Amount  \\\n",
       "135152  ... -0.012  0.204  0.063  0.399  0.298 -0.400 0.089 0.039 -76.750   \n",
       "103706  ...  0.017  0.218  0.074  0.230  0.185 -0.046 0.059 0.027 -81.450   \n",
       "231651  ... -0.069 -0.367 -0.449 -1.461  0.628 -0.475 0.004 0.027 -76.250   \n",
       "199939  ... -0.015  0.214  0.090  0.694 -0.698  0.592 0.158 0.166 -42.350   \n",
       "103404  ... -0.263 -0.825 -0.245  0.675  1.011 -0.279 0.041 0.091 -83.260   \n",
       "\n",
       "         Hour  \n",
       "135152  7.946  \n",
       "103706  4.946  \n",
       "231651  1.946  \n",
       "199939 -1.054  \n",
       "103404  4.946  \n",
       "\n",
       "[5 rows x 30 columns]"
      ]
     },
     "execution_count": 22,
     "metadata": {},
     "output_type": "execute_result"
    }
   ],
   "source": [
    "X_train.head()"
   ]
  },
  {
   "cell_type": "markdown",
   "metadata": {},
   "source": [
    "### Oversampling <a name=\"oversampling\"></a>"
   ]
  },
  {
   "cell_type": "markdown",
   "metadata": {},
   "source": [
    "We have already established that the original dataset is highly imbalanced. This is generally problematic, as the model trained on such data will have difficulties recognising the minority class. This becomes an even bigger problem when we are not interested in just predicting the outcome (we know that if we assume that a transaction is not fraudulent we will be correct in 99.83% of the time), but detecting instances of the minority class (e.g. fraud).\n",
    "\n",
    "There are two common techniques for addressing class imbalance that are often used in practice, and both introduce bias into the dataset in order to equalize the representation of all classes.\n",
    "\n",
    "* **Undersampling** - undersampling techniques remove observation from the dominant class to reduce the overrepresented/underrepresented gap. Random undersampling, for example, randomly removes samples (with or without replacement), quite often until the number of observations in the majority class becomes identical to the number of observations in the minority class.\n",
    "* **Oversampling** - oversampling also aims to reduce the class counts discrepancy, but unlike undersampling it achieves this by increasing the number of instances in the minority class. There are different approaches to this strategy, with the two most commonly used being random oversampling and SMOTE. Random oversampling is a fairly straightforward solution, which simply makes multiple copies of existing minority class observations, thus increasing the number of total observations from the minority class. Synthetic Minority Over-sampling Technique (SMOTE), on the other hand, oversamples the minority class by creating synthetic examples. It has been shown that SMOTE outperforms simple undersampling [[2]](#ref2)\n",
    "\n",
    "Using SMOTE to rectify the imbalance in our dataset is fairly easy, thanks to [imbalanced-learn](https://pypi.org/project/imbalanced-learn/), a Python package offering a number of re-sampling techniques, including SMOTE."
   ]
  },
  {
   "cell_type": "code",
   "execution_count": 23,
   "metadata": {},
   "outputs": [],
   "source": [
    "X_train_smote, y_train_smote = SMOTE(random_state=1234).fit_resample(X_train, y_train)"
   ]
  },
  {
   "cell_type": "code",
   "execution_count": 24,
   "metadata": {},
   "outputs": [
    {
     "name": "stdout",
     "output_type": "stream",
     "text": [
      "Fraudulent transactions are 50.00% of the test set.\n"
     ]
    }
   ],
   "source": [
    "smote_value_counts = y_train_smote[\"Class\"].value_counts()\n",
    "print(\"Fraudulent transactions are %.2f%% of the test set.\" % (smote_value_counts[0] * 100 / len(y_train_smote)))"
   ]
  },
  {
   "cell_type": "markdown",
   "metadata": {},
   "source": [
    "Now that the class imbalance has been resolved, we can move forward with the actual model training."
   ]
  },
  {
   "cell_type": "markdown",
   "metadata": {},
   "source": [
    "## Model training <a name=\"model-training\"></a>"
   ]
  },
  {
   "cell_type": "markdown",
   "metadata": {},
   "source": [
    "We will now train an XGBoost classifier, using the oversampled training set. First, we define a function that will perform a grid search for the optimal hyperparameters of the classifier. The highlights of the function are as follows:\n",
    "\n",
    "* We do a parameter search over the hyperparameters given in *params*\n",
    "* The cross-validation strategy for each model uses 3 folds in a stratified KFold\n",
    "* The metric the models in the search are evaluated on is the Area Under the Receiver Operating Characteristic Curve (ROC AUC)\n",
    "* The function prints the parameters that yield the highest AUC score and returns the parameters of the best estimator as its output"
   ]
  },
  {
   "cell_type": "code",
   "execution_count": 25,
   "metadata": {},
   "outputs": [],
   "source": [
    "def xgboost_search(X, y, search_verbose=1):\n",
    "    \n",
    "    params = {\n",
    "        \"gamma\":[0.5, 1, 1.5, 2, 5],\n",
    "        \"max_depth\":[3,4,5,6],\n",
    "        \"min_child_weight\": [100],\n",
    "        \"subsample\": [0.6, 0.8, 1.0],\n",
    "        \"colsample_bytree\": [0.6, 0.8, 1.0],\n",
    "        \"learning_rate\": [0.1, 0.01, 0.001]\n",
    "    }\n",
    "    \n",
    "    xgb = XGBClassifier(objective=\"binary:logistic\", eval_metric=\"auc\", use_label_encoder=False)\n",
    "\n",
    "    skf = StratifiedKFold(n_splits=3, shuffle=True, random_state=1234)\n",
    "    \n",
    "    grid_search = GridSearchCV(estimator=xgb, param_grid=params, scoring=\"roc_auc\", n_jobs=1, cv=skf.split(X,y), verbose=search_verbose)\n",
    "\n",
    "    grid_search.fit(X, y)\n",
    "\n",
    "    print(\"Best estimator: \")\n",
    "    print(grid_search.best_estimator_)\n",
    "    print(\"Parameters: \", grid_search.best_params_) \n",
    "    print(\"Highest AUC: %.2f\" % grid_search.best_score_)\n",
    "    \n",
    "    return grid_search.best_params_"
   ]
  },
  {
   "cell_type": "markdown",
   "metadata": {},
   "source": [
    "As the training set is quite large, we limit the grid search to a sample of 5000 observations. After *xgboost_search* goes through all possible estimators it will print the parameters used for the best performing one, and will return an XGBClassifier object that we can use to check how well the model generalises. \n",
    "\n",
    "Note, that although we are using a relatively small subset of the training data, the search still needs to train over 1,600 models, and this will take awhile."
   ]
  },
  {
   "cell_type": "code",
   "execution_count": 26,
   "metadata": {},
   "outputs": [
    {
     "name": "stdout",
     "output_type": "stream",
     "text": [
      "Fitting 3 folds for each of 540 candidates, totalling 1620 fits\n",
      "Best estimator: \n",
      "XGBClassifier(base_score=0.5, booster='gbtree', colsample_bylevel=1,\n",
      "              colsample_bynode=1, colsample_bytree=0.6, eval_metric='auc',\n",
      "              gamma=0.5, gpu_id=-1, importance_type='gain',\n",
      "              interaction_constraints='', learning_rate=0.1, max_delta_step=0,\n",
      "              max_depth=4, min_child_weight=100, missing=nan,\n",
      "              monotone_constraints='()', n_estimators=100, n_jobs=8,\n",
      "              num_parallel_tree=1, random_state=0, reg_alpha=0, reg_lambda=1,\n",
      "              scale_pos_weight=1, subsample=1.0, tree_method='exact',\n",
      "              use_label_encoder=False, validate_parameters=1, verbosity=None)\n",
      "Parameters:  {'colsample_bytree': 0.6, 'gamma': 0.5, 'learning_rate': 0.1, 'max_depth': 4, 'min_child_weight': 100, 'subsample': 1.0}\n",
      "Highest AUC: 0.99\n"
     ]
    }
   ],
   "source": [
    "rows = random.sample(np.arange(0,len(X_train_smote.index)).tolist(), 5000)\n",
    "model_params = xgboost_search(X_train_smote.iloc[rows,], y_train_smote.iloc[rows,])"
   ]
  },
  {
   "cell_type": "markdown",
   "metadata": {},
   "source": [
    "Now that we have the set of parameters that produces the highest score, we can use them to train a model on the complete oversampled training set."
   ]
  },
  {
   "cell_type": "code",
   "execution_count": 27,
   "metadata": {},
   "outputs": [
    {
     "data": {
      "text/plain": [
       "XGBClassifier(base_score=0.5, booster='gbtree', colsample_bylevel=1,\n",
       "              colsample_bynode=1, colsample_bytree=0.6, eval_metric='auc',\n",
       "              gamma=0.5, gpu_id=-1, importance_type='gain',\n",
       "              interaction_constraints='', learning_rate=0.1, max_delta_step=0,\n",
       "              max_depth=4, min_child_weight=100, missing=nan,\n",
       "              monotone_constraints='()', n_estimators=100, n_jobs=8,\n",
       "              num_parallel_tree=1, random_state=0, reg_alpha=0, reg_lambda=1,\n",
       "              scale_pos_weight=1, subsample=1.0, tree_method='exact',\n",
       "              use_label_encoder=False, validate_parameters=1, verbosity=None)"
      ]
     },
     "execution_count": 27,
     "metadata": {},
     "output_type": "execute_result"
    }
   ],
   "source": [
    "model = XGBClassifier(objective=\"binary:logistic\", eval_metric=\"auc\", use_label_encoder=False)\n",
    "model.set_params(**model_params)\n",
    "model.fit(X_train_smote, y_train_smote)"
   ]
  },
  {
   "cell_type": "markdown",
   "metadata": {},
   "source": [
    "## Model evaluation <a name=\"model-evaluation\"></a>\n",
    "\n",
    "We will use an ROC AUC curve for evaluating how well our model performs on the holdout set (X_test, y_test). To generate the ROC curve we calculate the true positive (TP) and false positive (FP) rates on the holdout set at various threshold levels.\n",
    "\n",
    "Calling *predict_proba(X_test)\\[:,1\\]* on the holdout set will give us the estimated probability $\\hat{Y_i}$ of a sample $\\text{X_test}_i$ being in class 1 (fraud). Given a specific threshold $T$, we can classify $\\text{X_test}_i$ as fraud if $T>\\hat{Y_i}$. It is evident that varying $T$ impacts the TP/FP rates, and this is what the ROC curve represents.\n",
    "\n",
    "We also show the Area Under the Curve (AUC) on the plot, as it is equal to the probability the model will rank a uniformly drawn random positive higher than a uniformly drawn random negative."
   ]
  },
  {
   "cell_type": "code",
   "execution_count": 28,
   "metadata": {},
   "outputs": [
    {
     "data": {
      "image/png": "[encoded data removed]",
      "text/plain": [
       "<Figure size 576x432 with 1 Axes>"
      ]
     },
     "metadata": {
      "needs_background": "light"
     },
     "output_type": "display_data"
    }
   ],
   "source": [
    "y_pred = model.predict_proba(X_test)[:,1]\n",
    "fp_r, tp_r, t = metrics.roc_curve(y_test, y_pred)\n",
    "auc = metrics.auc(fp_r, tp_r)\n",
    "\n",
    "plt.figure(figsize=(8, 6))\n",
    "\n",
    "plt.plot(fp_r, tp_r, label=\"AUC = %.2f\" % auc)\n",
    "plt.plot([0,1],[0,1],\"r--\")\n",
    "\n",
    "plt.ylabel(\"TP rate\")\n",
    "plt.xlabel(\"FP rate\")\n",
    "\n",
    "plt.legend(loc=4)\n",
    "plt.title(\"ROC Curve\")\n",
    "plt.show()"
   ]
  },
  {
   "cell_type": "markdown",
   "metadata": {},
   "source": [
    "A standard approach for binary classification problems is to look at the probability produced by the model and classify the observation as class 0 if the probability is under 0.5, and class 1 if it is equal or over 0.5. In highly unbalanced datasets this interpretation could lead to poor predictions. Offsetting the threshold (threshold moving) is a standard technique for improving the predictions by finding an optimal interpretation of the probabilities produced by the classifier.\n",
    "\n",
    "There is an extra factor that comes into play in fraud detection, which is that the cost of one type of misclassification is substantially higher than the other. In other words, classifing a legitimate transaction as fraud is inconvenient at best, but letting a fraudulent transaction slip through has more dire consequences. In this context, offsetting the threshold in a way that reduces the false negatives at the expense of false positives becomes a viable strategy.\n",
    "\n",
    "Selecting the optimal threshold value can be performed in a number of ways. Looking at the ROC curve, we can intuitively see that the best performance (misclassification costs aside) would be yield by the threshold that puts us in the top left section of the curve (i.e. TP rate is high, FP rate is low). With this criterion in mind, we can define a distance metric to the top left corner of the curve and find a threshold that minimises it.\n",
    "\n",
    "$T_{optimal} = \\text{argmax}_t \\sqrt{TP_r - FP_r}$"
   ]
  },
  {
   "cell_type": "code",
   "execution_count": 29,
   "metadata": {},
   "outputs": [
    {
     "name": "stdout",
     "output_type": "stream",
     "text": [
      "Threshold value is: 0.80\n"
     ]
    }
   ],
   "source": [
    "t_opt_idx = np.argmax(tp_r - fp_r)\n",
    "t_opt = t[t_opt_idx]\n",
    "print(\"Threshold value is: %.2f\" % t_opt)"
   ]
  },
  {
   "cell_type": "markdown",
   "metadata": {},
   "source": [
    "We can also manually inspect the confusion matrices at different threshold values."
   ]
  },
  {
   "cell_type": "code",
   "execution_count": 30,
   "metadata": {},
   "outputs": [
    {
     "data": {
      "image/png": "[encoded data removed]",
      "text/plain": [
       "<Figure size 720x720 with 9 Axes>"
      ]
     },
     "metadata": {
      "needs_background": "light"
     },
     "output_type": "display_data"
    }
   ],
   "source": [
    "y_pred = model.predict_proba(X_test)[:,1]\n",
    "\n",
    "fig, axes = plt.subplots(3,3, figsize=(10,10))\n",
    "    \n",
    "for t, ax in enumerate(axes.flat):\n",
    "    threshold = (t+1)/10\n",
    "\n",
    "    y_pred_int = (y_pred > threshold).astype(int)\n",
    "    c_matrix = metrics.confusion_matrix(y_test, y_pred_int)\n",
    "    sns.heatmap(c_matrix, annot=True, cmap=\"Blues\", fmt=\"d\", ax=ax, cbar=False)\n",
    "    ax.title.set_text(\"T=%.1f\" % threshold)\n",
    "\n",
    "plt.subplots_adjust(hspace=0.5, wspace=0.5)\n",
    "plt.suptitle(\"Impact of threshold adjustment on the error matrix\");"
   ]
  },
  {
   "cell_type": "markdown",
   "metadata": {},
   "source": [
    "#### "
   ]
  },
  {
   "cell_type": "markdown",
   "metadata": {},
   "source": [
    "Looking at the plot above, we can indeed confirm that T=0.8 gives the best interpretation. The false negatives and false positives are both low. Increasing the threshold further leads to missing more fraudulent transactions, and reducing it lower almost doubles the number false positives."
   ]
  },
  {
   "cell_type": "markdown",
   "metadata": {},
   "source": [
    "## Persisting the trained model <a name=\"persisting\"></a>\n",
    "\n",
    "Now that we are satisfied with how the model performs, we can persist it and use it from other notebooks / scoring scripts."
   ]
  },
  {
   "cell_type": "code",
   "execution_count": 31,
   "metadata": {},
   "outputs": [],
   "source": [
    "model.save_model(\"./model/smote_fraud.xgb\")"
   ]
  },
  {
   "cell_type": "markdown",
   "metadata": {},
   "source": [
    "Loading the persisted model can be acomplished with just a few lines of code. The following lines are intentionally commented out, as we don't need to do this for this notebook."
   ]
  },
  {
   "cell_type": "code",
   "execution_count": 32,
   "metadata": {},
   "outputs": [],
   "source": [
    "#model = XGBClassifier()\n",
    "#booster = Booster()\n",
    "#booster.load_model('./model/smote_fraud.xgb')\n",
    "#model._Booster = booster"
   ]
  },
  {
   "cell_type": "markdown",
   "metadata": {},
   "source": [
    "## Summary <a name=\"summary\"></a>\n",
    "\n",
    "In this notebook we looked at a real-world credit card transaction dataset and demonstrated how machine learning can be used to automate the detection of fraudulent transactions. The model can be automatically updated as new data comes in, and the re-training process doesn't require human intervention. \n",
    "\n",
    "The imbalance in the dataset can be addressed by using under/oversampling techniques, and the interpretation of the probabilities can be fine-tuned to produce a better balance between false alarms and missed fraudulent transactions. For a more formal overview of the implications and techniques around imbalanced learning, you can look at [[3]](#ref3)"
   ]
  },
  {
   "cell_type": "markdown",
   "metadata": {},
   "source": [
    "## References <a name=\"ref\"></a>\n",
    "\n",
    "<a id=\"ref1\"></a>\n",
    "[1] Jose M. Pavía, Ernesto J. Veres-Ferrer, Gabriel Foix-Escura, [Credit card incidents and control systems](https://www.sciencedirect.com/science/article/abs/pii/S0268401212000436), International Journal of Information Management, Volume 32, Issue 6, 2012, Pages 501-503, ISSN 0268-4012\n",
    "\n",
    "<a id=\"ref2\"></a>\n",
    "[2] Nitesh V. Chawla, Kevin W. Bowyer, Lawrence O. Hall, and W. Philip Kegelmeyer. 2002. [SMOTE: synthetic minority over-sampling technique](https://arxiv.org/pdf/1106.1813.pdf). J. Artif. Int. Res. 16, 1 (January 2002), 321–357.\n",
    "\n",
    "<a id=\"ref3\"></a>\n",
    "[3] He, H. & Garcia, E. (2009). [Learning from Imbalanced Data](https://ieeexplore.ieee.org/document/5128907). Knowledge and Data Engineering, IEEE Transactions on, 21, 1263-1284. doi: 10.1109/TKDE.2008.239"
   ]
  },
  {
   "cell_type": "code",
   "execution_count": null,
   "metadata": {},
   "outputs": [],
   "source": []
  }
 ],
 "metadata": {
  "kernelspec": {
   "display_name": "Python 3",
   "language": "python",
   "name": "python3"
  },
  "language_info": {
   "codemirror_mode": {
    "name": "ipython",
    "version": 3
   },
   "file_extension": ".py",
   "mimetype": "text/x-python",
   "name": "python",
   "nbconvert_exporter": "python",
   "pygments_lexer": "ipython3",
   "version": "3.7.4"
  }
 },
 "nbformat": 4,
 "nbformat_minor": 4
}
